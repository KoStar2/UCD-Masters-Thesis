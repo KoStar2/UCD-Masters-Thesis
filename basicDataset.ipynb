{
 "cells": [
  {
   "cell_type": "markdown",
   "id": "720d7cac-ccdc-46d0-a6fb-15ca41643c06",
   "metadata": {},
   "source": [
    "# Imports"
   ]
  },
  {
   "cell_type": "code",
   "execution_count": 1,
   "id": "b3f64646-2ef6-4c1c-931a-3dd6d0842735",
   "metadata": {},
   "outputs": [],
   "source": [
    "from biopandas.pdb.pandas_pdb import PandasPdb\n",
    "import os"
   ]
  },
  {
   "cell_type": "markdown",
   "id": "e4455ace-f936-48cc-a011-02acb8a6bece",
   "metadata": {},
   "source": [
    "# Testing BioPandas"
   ]
  },
  {
   "cell_type": "code",
   "execution_count": 51,
   "id": "9a20755a-ff52-4777-aeaf-f851b63a48ec",
   "metadata": {},
   "outputs": [],
   "source": [
    "parser = PandasPdb()\n",
    "pdb = parser.read_pdb(\"d2aeva_.pdb\")\n",
    "df_atoms = pdb.df[\"ATOM\"]\n",
    "df_hetero = pdb.df[\"HETATM\"]\n",
    "df_others = pdb.df[\"OTHERS\"]\n",
    "df_aniso = pdb.df[\"ANISOU\"]"
   ]
  },
  {
   "cell_type": "code",
   "execution_count": 56,
   "id": "ccef152e-69b0-454e-bbf2-8710ee733f70",
   "metadata": {},
   "outputs": [
    {
     "name": "stdout",
     "output_type": "stream",
     "text": [
      "O\n"
     ]
    }
   ],
   "source": [
    "df_atoms[3180:3240]\n",
    "print(df_atoms[\"atom_name\"][3183][0])"
   ]
  },
  {
   "cell_type": "code",
   "execution_count": 38,
   "id": "52749b2a-09ac-4f63-b2e8-1df2df6f937d",
   "metadata": {},
   "outputs": [
    {
     "data": {
      "text/html": [
       "<div>\n",
       "<style scoped>\n",
       "    .dataframe tbody tr th:only-of-type {\n",
       "        vertical-align: middle;\n",
       "    }\n",
       "\n",
       "    .dataframe tbody tr th {\n",
       "        vertical-align: top;\n",
       "    }\n",
       "\n",
       "    .dataframe thead th {\n",
       "        text-align: right;\n",
       "    }\n",
       "</style>\n",
       "<table border=\"1\" class=\"dataframe\">\n",
       "  <thead>\n",
       "    <tr style=\"text-align: right;\">\n",
       "      <th></th>\n",
       "      <th>record_name</th>\n",
       "      <th>atom_number</th>\n",
       "      <th>blank_1</th>\n",
       "      <th>atom_name</th>\n",
       "      <th>alt_loc</th>\n",
       "      <th>residue_name</th>\n",
       "      <th>blank_2</th>\n",
       "      <th>chain_id</th>\n",
       "      <th>residue_number</th>\n",
       "      <th>insertion</th>\n",
       "      <th>blank_3</th>\n",
       "      <th>x_coord</th>\n",
       "      <th>y_coord</th>\n",
       "      <th>z_coord</th>\n",
       "      <th>occupancy</th>\n",
       "      <th>b_factor</th>\n",
       "      <th>blank_4</th>\n",
       "      <th>segment_id</th>\n",
       "      <th>element_symbol</th>\n",
       "      <th>charge</th>\n",
       "      <th>line_idx</th>\n",
       "    </tr>\n",
       "  </thead>\n",
       "  <tbody>\n",
       "  </tbody>\n",
       "</table>\n",
       "</div>"
      ],
      "text/plain": [
       "Empty DataFrame\n",
       "Columns: [record_name, atom_number, blank_1, atom_name, alt_loc, residue_name, blank_2, chain_id, residue_number, insertion, blank_3, x_coord, y_coord, z_coord, occupancy, b_factor, blank_4, segment_id, element_symbol, charge, line_idx]\n",
       "Index: []"
      ]
     },
     "execution_count": 38,
     "metadata": {},
     "output_type": "execute_result"
    }
   ],
   "source": [
    "df_hetero.head(10)"
   ]
  },
  {
   "cell_type": "code",
   "execution_count": 39,
   "id": "660259ab-ba26-4666-aa55-3e61ca06ab75",
   "metadata": {},
   "outputs": [
    {
     "data": {
      "text/html": [
       "<div>\n",
       "<style scoped>\n",
       "    .dataframe tbody tr th:only-of-type {\n",
       "        vertical-align: middle;\n",
       "    }\n",
       "\n",
       "    .dataframe tbody tr th {\n",
       "        vertical-align: top;\n",
       "    }\n",
       "\n",
       "    .dataframe thead th {\n",
       "        text-align: right;\n",
       "    }\n",
       "</style>\n",
       "<table border=\"1\" class=\"dataframe\">\n",
       "  <thead>\n",
       "    <tr style=\"text-align: right;\">\n",
       "      <th></th>\n",
       "      <th>record_name</th>\n",
       "      <th>entry</th>\n",
       "      <th>line_idx</th>\n",
       "    </tr>\n",
       "  </thead>\n",
       "  <tbody>\n",
       "    <tr>\n",
       "      <th>0</th>\n",
       "      <td>HEADER</td>\n",
       "      <td></td>\n",
       "      <td>0</td>\n",
       "    </tr>\n",
       "    <tr>\n",
       "      <th>1</th>\n",
       "      <td>TITLE</td>\n",
       "      <td>MDANALYSIS FRAME 0: Created by PDBWriter</td>\n",
       "      <td>1</td>\n",
       "    </tr>\n",
       "    <tr>\n",
       "      <th>2</th>\n",
       "      <td>CRYST1</td>\n",
       "      <td>1.000    1.000    1.000  90.00  90.00  90....</td>\n",
       "      <td>2</td>\n",
       "    </tr>\n",
       "    <tr>\n",
       "      <th>3</th>\n",
       "      <td>REMARK</td>\n",
       "      <td>285 UNITARY VALUES FOR THE UNIT CELL AUTO...</td>\n",
       "      <td>3</td>\n",
       "    </tr>\n",
       "    <tr>\n",
       "      <th>4</th>\n",
       "      <td>REMARK</td>\n",
       "      <td>285 BY MDANALYSIS PDBWRITER BECAUSE UNIT ...</td>\n",
       "      <td>4</td>\n",
       "    </tr>\n",
       "    <tr>\n",
       "      <th>5</th>\n",
       "      <td>REMARK</td>\n",
       "      <td>285 WAS MISSING.</td>\n",
       "      <td>5</td>\n",
       "    </tr>\n",
       "    <tr>\n",
       "      <th>6</th>\n",
       "      <td>REMARK</td>\n",
       "      <td>285 PROTEIN DATA BANK CONVENTIONS REQUIRE...</td>\n",
       "      <td>6</td>\n",
       "    </tr>\n",
       "    <tr>\n",
       "      <th>7</th>\n",
       "      <td>REMARK</td>\n",
       "      <td>285 CRYST1 RECORD IS INCLUDED, BUT THE VA...</td>\n",
       "      <td>7</td>\n",
       "    </tr>\n",
       "    <tr>\n",
       "      <th>8</th>\n",
       "      <td>REMARK</td>\n",
       "      <td>285 THIS RECORD ARE MEANINGLESS.</td>\n",
       "      <td>8</td>\n",
       "    </tr>\n",
       "    <tr>\n",
       "      <th>9</th>\n",
       "      <td>END</td>\n",
       "      <td></td>\n",
       "      <td>2274</td>\n",
       "    </tr>\n",
       "  </tbody>\n",
       "</table>\n",
       "</div>"
      ],
      "text/plain": [
       "  record_name                                              entry  line_idx\n",
       "0      HEADER                                                            0\n",
       "1       TITLE           MDANALYSIS FRAME 0: Created by PDBWriter         1\n",
       "2      CRYST1      1.000    1.000    1.000  90.00  90.00  90....         2\n",
       "3      REMARK       285 UNITARY VALUES FOR THE UNIT CELL AUTO...         3\n",
       "4      REMARK       285 BY MDANALYSIS PDBWRITER BECAUSE UNIT ...         4\n",
       "5      REMARK                                   285 WAS MISSING.         5\n",
       "6      REMARK       285 PROTEIN DATA BANK CONVENTIONS REQUIRE...         6\n",
       "7      REMARK       285 CRYST1 RECORD IS INCLUDED, BUT THE VA...         7\n",
       "8      REMARK                   285 THIS RECORD ARE MEANINGLESS.         8\n",
       "9         END                                                         2274"
      ]
     },
     "execution_count": 39,
     "metadata": {},
     "output_type": "execute_result"
    }
   ],
   "source": [
    "df_others.head(10)"
   ]
  },
  {
   "cell_type": "code",
   "execution_count": 40,
   "id": "fbad7dc3-3bfd-4ccc-9cb1-922d942f32ba",
   "metadata": {},
   "outputs": [
    {
     "data": {
      "text/html": [
       "<div>\n",
       "<style scoped>\n",
       "    .dataframe tbody tr th:only-of-type {\n",
       "        vertical-align: middle;\n",
       "    }\n",
       "\n",
       "    .dataframe tbody tr th {\n",
       "        vertical-align: top;\n",
       "    }\n",
       "\n",
       "    .dataframe thead th {\n",
       "        text-align: right;\n",
       "    }\n",
       "</style>\n",
       "<table border=\"1\" class=\"dataframe\">\n",
       "  <thead>\n",
       "    <tr style=\"text-align: right;\">\n",
       "      <th></th>\n",
       "      <th>record_name</th>\n",
       "      <th>atom_number</th>\n",
       "      <th>blank_1</th>\n",
       "      <th>atom_name</th>\n",
       "      <th>alt_loc</th>\n",
       "      <th>residue_name</th>\n",
       "      <th>blank_2</th>\n",
       "      <th>chain_id</th>\n",
       "      <th>residue_number</th>\n",
       "      <th>insertion</th>\n",
       "      <th>blank_3</th>\n",
       "      <th>U(1,1)</th>\n",
       "      <th>U(2,2)</th>\n",
       "      <th>U(3,3)</th>\n",
       "      <th>U(1,2)</th>\n",
       "      <th>U(1,3)</th>\n",
       "      <th>U(2,3)</th>\n",
       "      <th>blank_4</th>\n",
       "      <th>element_symbol</th>\n",
       "      <th>charge</th>\n",
       "      <th>line_idx</th>\n",
       "    </tr>\n",
       "  </thead>\n",
       "  <tbody>\n",
       "  </tbody>\n",
       "</table>\n",
       "</div>"
      ],
      "text/plain": [
       "Empty DataFrame\n",
       "Columns: [record_name, atom_number, blank_1, atom_name, alt_loc, residue_name, blank_2, chain_id, residue_number, insertion, blank_3, U(1,1), U(2,2), U(3,3), U(1,2), U(1,3), U(2,3), blank_4, element_symbol, charge, line_idx]\n",
       "Index: []"
      ]
     },
     "execution_count": 40,
     "metadata": {},
     "output_type": "execute_result"
    }
   ],
   "source": [
    "df_aniso.head(10)"
   ]
  },
  {
   "cell_type": "markdown",
   "id": "b0b69235-2c42-437d-8900-10d6261e0341",
   "metadata": {},
   "source": [
    "# Check what elements are present"
   ]
  },
  {
   "cell_type": "code",
   "execution_count": null,
   "id": "b343db82-647a-4000-bec2-61520263b80b",
   "metadata": {},
   "outputs": [],
   "source": [
    "def check_for_elements(pdb_directory, parser):\n",
    "    elements = list()\n",
    "    for i in pdb_directory:\n",
    "        biopdb = parser.read_pdb(i)\n",
    "        df = biopdb.df[\"ATOM\"]\n",
    "        for j in df[\"atom_name\"]:\n",
    "            j = j[0]\n",
    "            if j in elements:\n",
    "                continue\n",
    "            elif j not in elements:\n",
    "                elements.append(j)\n",
    "        print(f\"Parsed {i}. Current elements: {elements}\")\n",
    "    return None\n",
    "\n",
    "directory = os.listdir()\n",
    "for i in directory:\n",
    "    if i.endswith(\".pdb\") == False:\n",
    "        directory.remove(i)\n",
    "\n",
    "parser = PandasPdb()\n",
    "check_for_elements(directory, parser)"
   ]
  },
  {
   "cell_type": "markdown",
   "id": "e5b8a468-3ce6-40fe-8f74-c0dac7f44a44",
   "metadata": {},
   "source": [
    "# Creating Dataset"
   ]
  },
  {
   "cell_type": "code",
   "execution_count": 2,
   "id": "6107b63c-38b9-485f-a2e7-4176c0c9206a",
   "metadata": {},
   "outputs": [],
   "source": [
    "import torch\n",
    "import copy\n",
    "import numpy as np"
   ]
  },
  {
   "cell_type": "markdown",
   "id": "f288f1a0-baf3-4f24-a541-b6ff1f10906a",
   "metadata": {},
   "source": [
    "### Tensor design:\n",
    "\n",
    "##### Tensors are 10,000 (max atoms) by 4 (atom type, x, y, z).\n",
    "\n",
    "If a pdb has less than the max atoms the remaining atoms will be considered a NoneType, with x, y, and z values of 999.999\n",
    "\n",
    "##### There are 7 atom types, one-hot encoded:\n",
    "\n",
    "None, Hydrogen, Carbon, Nitrogen, Oxygen, Phosphorous, Sulfur"
   ]
  },
  {
   "cell_type": "code",
   "execution_count": 38,
   "id": "7cddfc87-6437-467c-8928-c343152885c5",
   "metadata": {},
   "outputs": [],
   "source": [
    "def pdbToTorchFile(pdb_loc, parser, save_loc):\n",
    "    print(f\"Working on {pdb_loc}\")\n",
    "    array = np.zeros((10_000, 10))\n",
    "    array[:, 7:] = 999.9999\n",
    "    \n",
    "    biopdb = parser.read_pdb(pdb_loc)\n",
    "    df = biopdb.df[\"ATOM\"]\n",
    "    for i in range(len(df)):\n",
    "        array[i, 7] = df[\"x_coord\"][i]\n",
    "        array[i, 8] = df[\"y_coord\"][i]\n",
    "        array[i, 9] = df[\"z_coord\"][i]\n",
    "\n",
    "        curAtm = df[\"atom_name\"][i]\n",
    "        \n",
    "        if curAtm[0] == \"H\":\n",
    "            array[i, 0] = 0\n",
    "            array[i, 1] = 1\n",
    "        elif curAtm[0] == \"C\":\n",
    "            array[i, 0] = 0\n",
    "            array[i, 2] = 1\n",
    "        elif curAtm[0] == \"N\":\n",
    "            array[i, 0] = 0\n",
    "            array[i, 3] = 1\n",
    "        elif curAtm[0] == \"O\":\n",
    "            array[i, 0] = 0\n",
    "            array[i, 4] = 1\n",
    "        elif curAtm[0] == \"P\":\n",
    "            array[i, 0] = 0\n",
    "            array[i, 5] = 1\n",
    "        elif curAtm[0] == \"S\":\n",
    "            array[i, 0] = 0\n",
    "            array[i, 6] = 1\n",
    "\n",
    "    tens = torch.from_numpy(array)\n",
    "    torch.save(tens, save_loc)\n",
    "    return None"
   ]
  },
  {
   "cell_type": "code",
   "execution_count": 43,
   "id": "c8d4d5cf-0240-4073-8b40-8b11509d84db",
   "metadata": {},
   "outputs": [],
   "source": [
    "os.chdir(\"/home/taylor/UCDThesis\")\n",
    "\n",
    "parser = PandasPdb()\n",
    "\n",
    "pdb_files = os.listdir(\"aligned\")\n",
    "pdb_files.sort()\n",
    "for i in pdb_files:\n",
    "    if i.endswith(\".pdb\") == False:\n",
    "        pdb_files.remove(i)\n",
    "    \n",
    "names = copy.deepcopy(pdb_files)\n",
    "for i in range(len(names)):\n",
    "    new_name = names[i]\n",
    "    new_name = new_name[:-4]\n",
    "    names[i] = new_name\n",
    "\n",
    "for i in range(len(pdb_files)):\n",
    "    cur_file = pdb_files[i]\n",
    "    pdb_files[i] = \"aligned/\" + cur_file\n",
    "    \n",
    "saveLoc = copy.deepcopy(names)\n",
    "for i in range(len(saveLoc)):\n",
    "    cur_file = saveLoc[i]\n",
    "    saveLoc[i] = \"machineLearning/simpleTorchInputs/\" + cur_file + \".pt\""
   ]
  },
  {
   "cell_type": "code",
   "execution_count": null,
   "id": "17d6a417-71e6-4f02-bcdc-e5c86b561c0e",
   "metadata": {},
   "outputs": [],
   "source": [
    "for i, j in zip(pdb_files, saveLoc):\n",
    "    pdbToTorchFile(i, parser, j)"
   ]
  },
  {
   "cell_type": "code",
   "execution_count": 41,
   "id": "6a4b7280-f407-4227-8111-26cf36e393d2",
   "metadata": {},
   "outputs": [],
   "source": [
    "test = torch.load(\"simpleTorchInputs/d4pv4a1.pt\")"
   ]
  },
  {
   "cell_type": "code",
   "execution_count": 42,
   "id": "995a7170-cea5-4476-bddb-88fc4ed6757e",
   "metadata": {},
   "outputs": [
    {
     "name": "stdout",
     "output_type": "stream",
     "text": [
      "tensor([[  0.0000,   0.0000,   0.0000,  ...,   9.7580, -15.9190,  -3.4930],\n",
      "        [  0.0000,   0.0000,   1.0000,  ...,   8.4760, -16.6050,  -3.7490],\n",
      "        [  0.0000,   0.0000,   1.0000,  ...,   8.1140, -16.3040,  -5.1630],\n",
      "        ...,\n",
      "        [  0.0000,   0.0000,   0.0000,  ..., 999.9999, 999.9999, 999.9999],\n",
      "        [  0.0000,   0.0000,   0.0000,  ..., 999.9999, 999.9999, 999.9999],\n",
      "        [  0.0000,   0.0000,   0.0000,  ..., 999.9999, 999.9999, 999.9999]],\n",
      "       dtype=torch.float64)\n"
     ]
    }
   ],
   "source": [
    "print(test)"
   ]
  },
  {
   "cell_type": "code",
   "execution_count": null,
   "id": "e57a9196-3796-4cc0-a5de-eebf4b564bfd",
   "metadata": {},
   "outputs": [],
   "source": [
    "os.chdir(\"/home/taylor/UCDThesis\")"
   ]
  }
 ],
 "metadata": {
  "kernelspec": {
   "display_name": "Python 3 (ipykernel)",
   "language": "python",
   "name": "python3"
  },
  "language_info": {
   "codemirror_mode": {
    "name": "ipython",
    "version": 3
   },
   "file_extension": ".py",
   "mimetype": "text/x-python",
   "name": "python",
   "nbconvert_exporter": "python",
   "pygments_lexer": "ipython3",
   "version": "3.12.4"
  }
 },
 "nbformat": 4,
 "nbformat_minor": 5
}
