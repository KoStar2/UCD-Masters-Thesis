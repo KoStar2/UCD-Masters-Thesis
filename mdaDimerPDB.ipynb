{
 "cells": [
  {
   "cell_type": "code",
   "execution_count": 2,
   "id": "7c318f85-e982-469a-a274-27115a8f0d57",
   "metadata": {},
   "outputs": [
    {
     "name": "stderr",
     "output_type": "stream",
     "text": [
      "/home/taylor/anaconda3/envs/dChem/lib/python3.12/site-packages/tqdm/auto.py:21: TqdmWarning: IProgress not found. Please update jupyter and ipywidgets. See https://ipywidgets.readthedocs.io/en/stable/user_install.html\n",
      "  from .autonotebook import tqdm as notebook_tqdm\n"
     ]
    }
   ],
   "source": [
    "import MDAnalysis as mda\n",
    "from MDAnalysis.transformations.translate import translate\n",
    "import numpy as np"
   ]
  },
  {
   "cell_type": "code",
   "execution_count": 3,
   "id": "75551441-3e4a-4625-8923-baff8d30980d",
   "metadata": {},
   "outputs": [],
   "source": [
    "def rotmax(alpha, beta, gamma):\n",
    "    matrix = np.array([[np.cos(beta)*np.cos(gamma),\n",
    "                       -np.cos(gamma)*np.sin(alpha)*np.sin(beta) - np.cos(alpha)*np.sin(gamma),\n",
    "                       -np.cos(alpha)*np.cos(gamma)*np.sin(beta) + np.sin(alpha)*np.sin(gamma)],\n",
    "                      [np.cos(beta)*np.sin(gamma),\n",
    "                       -np.sin(alpha)*np.sin(beta)*np.sin(gamma) + np.cos(alpha)*np.cos(gamma),\n",
    "                       -np.cos(alpha)*np.sin(beta)*np.sin(gamma) - np.cos(gamma)*np.sin(alpha)],\n",
    "                      [np.sin(beta),\n",
    "                       np.cos(beta)*np.sin(alpha),\n",
    "                       np.cos(alpha)*np.cos(beta)]])\n",
    "    return matrix"
   ]
  },
  {
   "cell_type": "code",
   "execution_count": 3,
   "id": "103d2b12-bcb5-416e-821d-d3a63ac29ebd",
   "metadata": {},
   "outputs": [
    {
     "name": "stdout",
     "output_type": "stream",
     "text": [
      "[[-0.38388504 -0.73057018 -0.56471187]\n",
      " [-0.70943755 -0.15810233  0.68680566]\n",
      " [-0.59104199  0.66428222 -0.4576008 ]]\n"
     ]
    }
   ],
   "source": [
    "alpha = 2.17401\n",
    "beta = -0.63235\n",
    "gamma = -2.06679\n",
    "print(rotmax(alpha, beta, gamma))"
   ]
  },
  {
   "cell_type": "markdown",
   "id": "04548c93-f362-4115-ab84-423f87454974",
   "metadata": {},
   "source": [
    "# Extract Top Score Transformation"
   ]
  },
  {
   "cell_type": "code",
   "execution_count": 4,
   "id": "85bb7e48-e4b0-4f8f-9d3f-f8a1aef66157",
   "metadata": {},
   "outputs": [],
   "source": [
    "def extractTopScore(filename):\n",
    "    file = np.genfromtxt(filename, delimiter = \"|\", skip_header = 24, dtype = str)\n",
    "    transform = file[0, 13]\n",
    "    transform = transform.split(\" \")\n",
    "    transform = transform[1:]\n",
    "    for j in range(len(transform)):\n",
    "        transform[j] = float(transform[j])\n",
    "\n",
    "    \n",
    "    alpha = transform[0]\n",
    "    beta = transform[1]\n",
    "    gamma = transform[2]\n",
    "    \n",
    "    x = transform[3]\n",
    "    y = transform[4]\n",
    "    z = transform[5]\n",
    "    \n",
    "    return alpha, beta, gamma, x, y, z"
   ]
  },
  {
   "cell_type": "code",
   "execution_count": 17,
   "id": "6cbeaf81-5f33-4d99-b4b3-48b995b32838",
   "metadata": {},
   "outputs": [
    {
     "name": "stdout",
     "output_type": "stream",
     "text": [
      "(-1.05964, -0.93373, 2.58407, -11.46599, 4.78695, -5.54074)\n"
     ]
    }
   ],
   "source": [
    "protein = \"d1exra_\"\n",
    "patchdock = f\"{protein}_{protein}.txt\"\n",
    "print(extractTopScore(patchdock))"
   ]
  },
  {
   "cell_type": "markdown",
   "id": "85eab5a7-d09d-4f31-bd91-d591649b4c11",
   "metadata": {},
   "source": [
    "# Homodimer"
   ]
  },
  {
   "cell_type": "code",
   "execution_count": 5,
   "id": "ffc17624-438f-44db-b40e-a7514d92a7fa",
   "metadata": {},
   "outputs": [],
   "source": [
    "def homodimer_pdb(protein, pdb, alpha, beta, gamma, x, y, z):\n",
    "    \n",
    "    rec_uni = mda.Universe(f\"{pdb}\")\n",
    "    rec_atoms = rec_uni.select_atoms(\"all\")\n",
    "    rec_atoms.chainIDs = np.full([len(rec_atoms)], \"A\")\n",
    "    \n",
    "    lig_uni = mda.Universe(f\"{pdb}\")\n",
    "    lig_atoms = lig_uni.select_atoms(\"all\")\n",
    "    lig_atoms.chainIDs = np.full([len(lig_atoms)], \"B\")\n",
    "        \n",
    "    lig_atoms.rotate(rotmax(alpha, beta, gamma))\n",
    "    lig_atoms.translate([[x, y, z]])\n",
    "\n",
    "    homodimer = mda.Merge(rec_atoms, lig_atoms)\n",
    "    homodimer_atoms = homodimer.select_atoms(\"all\")\n",
    "    homodimer_atoms.write(f\"{protein}_homodimer.pdb\")\n",
    "    return"
   ]
  },
  {
   "cell_type": "code",
   "execution_count": 15,
   "id": "a77a271c-74da-450b-8a24-06eec9b4c056",
   "metadata": {},
   "outputs": [
    {
     "name": "stderr",
     "output_type": "stream",
     "text": [
      "/home/taylor/anaconda3/envs/dChem/lib/python3.12/site-packages/MDAnalysis/topology/guessers.py:146: UserWarning: Failed to guess the mass for the following atom types: SE\n",
      "  warnings.warn(\"Failed to guess the mass for the following atom types: {}\".format(atom_type))\n"
     ]
    }
   ],
   "source": [
    "for i in [\"d2mspa_\", \"d3o6ca_\", \"d2pd1c_\"]:\n",
    "    protein = i\n",
    "    pdb = f\"../aligned/{protein}.pdb\"\n",
    "    patchdock = f\"../homodimer_data/fine_patchdock/{protein}_{protein}.txt\"\n",
    "    alpha, beta, gamma, x, y, z = extractTopScore(patchdock)\n",
    "    homodimer_pdb(protein, pdb, alpha, beta, gamma, x, y, z)"
   ]
  },
  {
   "cell_type": "markdown",
   "id": "3ebc80c8-b9f2-4bdc-b94b-c3d311e962e6",
   "metadata": {},
   "source": [
    "# Heterodimer"
   ]
  },
  {
   "cell_type": "code",
   "execution_count": null,
   "id": "2169d33a-f783-41d6-8af9-32e6f8632b93",
   "metadata": {},
   "outputs": [],
   "source": [
    "def heterodimer(receptor, ligand):"
   ]
  }
 ],
 "metadata": {
  "kernelspec": {
   "display_name": "Python 3 (ipykernel)",
   "language": "python",
   "name": "python3"
  },
  "language_info": {
   "codemirror_mode": {
    "name": "ipython",
    "version": 3
   },
   "file_extension": ".py",
   "mimetype": "text/x-python",
   "name": "python",
   "nbconvert_exporter": "python",
   "pygments_lexer": "ipython3",
   "version": "3.12.4"
  }
 },
 "nbformat": 4,
 "nbformat_minor": 5
}
