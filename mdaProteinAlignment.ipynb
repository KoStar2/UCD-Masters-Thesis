{
 "cells": [
  {
   "cell_type": "code",
   "execution_count": 1,
   "id": "9b5b891f-50e9-496b-8436-bb4866fe8380",
   "metadata": {},
   "outputs": [
    {
     "name": "stderr",
     "output_type": "stream",
     "text": [
      "/home/taylor/anaconda3/lib/python3.11/site-packages/Bio/Application/__init__.py:40: BiopythonDeprecationWarning: The Bio.Application modules and modules relying on it have been deprecated.\n",
      "\n",
      "Due to the on going maintenance burden of keeping command line application\n",
      "wrappers up to date, we have decided to deprecate and eventually remove these\n",
      "modules.\n",
      "\n",
      "We instead now recommend building your command line and invoking it directly\n",
      "with the subprocess module.\n",
      "  warnings.warn(\n"
     ]
    }
   ],
   "source": [
    "import MDAnalysis as mda\n",
    "from MDAnalysis.transformations import translate\n",
    "from MDAnalysis.analysis import align\n",
    "import os as os"
   ]
  },
  {
   "cell_type": "markdown",
   "id": "874aee9f-acec-4e81-87ff-b92bff83224d",
   "metadata": {},
   "source": [
    "# Align to $\\alpha$-Carbon COM"
   ]
  },
  {
   "cell_type": "code",
   "execution_count": 4,
   "id": "3e4051b6-0eef-41e5-9161-b55f10e1e102",
   "metadata": {},
   "outputs": [],
   "source": [
    "def alignAlphaCarbon(pdb, savePdb):\n",
    "    u = mda.Universe(pdb)\n",
    "    u_ref = mda.Universe(pdb)\n",
    "    \n",
    "    all_atom = u.select_atoms(\"all\")\n",
    "    ca = u_ref.select_atoms(\"name CA\")\n",
    "    \n",
    "    COM = ca.center_of_mass()\n",
    "    \n",
    "    translate(-COM)(all_atom)\n",
    "    translate(-COM)(ca)\n",
    "    \n",
    "    axes = ca.principal_axes()\n",
    "    \n",
    "    ca.align_principal_axis(0, [0, 0, 1])\n",
    "    ca.align_principal_axis(2, [1, 0, 0])\n",
    "    \n",
    "    align.alignto(all_atom, ca, select = \"name CA\")\n",
    "\n",
    "    all_atom.write(savePdb)\n",
    "    return"
   ]
  },
  {
   "cell_type": "code",
   "execution_count": 5,
   "id": "2b8566be-6637-4b71-842d-12b875c116b4",
   "metadata": {},
   "outputs": [
    {
     "name": "stderr",
     "output_type": "stream",
     "text": [
      "/home/taylor/anaconda3/lib/python3.11/site-packages/MDAnalysis/coordinates/PDB.py:1153: UserWarning: Found no information for attr: 'formalcharges' Using default value of '0'\n",
      "  warnings.warn(\"Found no information for attr: '{}'\"\n"
     ]
    }
   ],
   "source": [
    "alignAlphaCarbon(\"1coz.pdb\", \"aligned_1coz.pdb\")"
   ]
  },
  {
   "cell_type": "markdown",
   "id": "107d9dd9-b40d-4a80-aa47-5a629c5c9fef",
   "metadata": {},
   "source": [
    "# Aligning LOMETS3"
   ]
  },
  {
   "cell_type": "code",
   "execution_count": null,
   "id": "724dd08b-71ea-4d0e-9456-a1d880a8463b",
   "metadata": {},
   "outputs": [],
   "source": [
    "n = 1\n",
    "length = len(os.listdir('pdbs'))\n",
    "             \n",
    "for filename in os.listdir(\"pdbs\"):\n",
    "    if filename.endswith('.pdb'):\n",
    "        u = mda.Universe(f'pdbs/{filename}')\n",
    "        u_ref = mda.Universe(f'pdbs/{filename}')\n",
    "        \n",
    "        all_atom = u.select_atoms(\"all\")\n",
    "        ca = u_ref.select_atoms(\"name CA\")\n",
    "        \n",
    "        COM = ca.center_of_mass()\n",
    "        \n",
    "        translate(-COM)(all_atom)\n",
    "        translate(-COM)(ca)\n",
    "        \n",
    "        I = ca.moment_of_inertia()\n",
    "        axes = ca.principal_axes()\n",
    "        \n",
    "        ca.align_principal_axis(0, [0, 0, 1])\n",
    "        ca.align_principal_axis(2, [1, 0, 0])\n",
    "        \n",
    "        align.alignto(all_atom, ca, select = \"name CA\")\n",
    "    \n",
    "        all_atom.write(f\"aligned/{filename}\") #MDAnalysis can't create folders, so it has to already exist\n",
    "        \n",
    "        print(f'{filename} has finished (File {n} of {length})')\n",
    "        n += 1\n"
   ]
  },
  {
   "cell_type": "code",
   "execution_count": 7,
   "id": "39ccd8d0-b2fd-4c6f-a9c5-fd0a9ebe10cd",
   "metadata": {},
   "outputs": [],
   "source": [
    "def alignGeoCenter(filename, saveFile):\n",
    "    u = mda.Universe(filename)\n",
    "    atoms = u.select_atoms(\"all\")\n",
    "    center = atoms.centroid()\n",
    "    translate(-center)(atoms)\n",
    "    atoms.write(saveFile)\n",
    "    return"
   ]
  },
  {
   "cell_type": "code",
   "execution_count": 9,
   "id": "22eaa906-50c8-4b36-8e59-1749d7316595",
   "metadata": {},
   "outputs": [],
   "source": [
    "def printGeoCenter(filename):\n",
    "    u = mda.Universe(filename)\n",
    "    atoms = u.select_atoms(\"all\")\n",
    "    center = atoms.centroid()\n",
    "    print(center)\n",
    "    return"
   ]
  },
  {
   "cell_type": "code",
   "execution_count": null,
   "id": "3ce11654-68ff-4378-8b6c-283d8f8afe66",
   "metadata": {},
   "outputs": [],
   "source": []
  }
 ],
 "metadata": {
  "kernelspec": {
   "display_name": "Python 3 (ipykernel)",
   "language": "python",
   "name": "python3"
  },
  "language_info": {
   "codemirror_mode": {
    "name": "ipython",
    "version": 3
   },
   "file_extension": ".py",
   "mimetype": "text/x-python",
   "name": "python",
   "nbconvert_exporter": "python",
   "pygments_lexer": "ipython3",
   "version": "3.12.4"
  }
 },
 "nbformat": 4,
 "nbformat_minor": 5
}
